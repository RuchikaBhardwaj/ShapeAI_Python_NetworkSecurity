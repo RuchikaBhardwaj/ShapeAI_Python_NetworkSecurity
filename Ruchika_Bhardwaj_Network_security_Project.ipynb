{
  "nbformat": 4,
  "nbformat_minor": 0,
  "metadata": {
    "colab": {
      "name": "Ruchika_Bhardwaj_Network_security_Project.ipynb",
      "provenance": [],
      "collapsed_sections": []
    },
    "kernelspec": {
      "name": "python3",
      "display_name": "Python 3"
    },
    "language_info": {
      "name": "python"
    }
  },
  "cells": [
    {
      "cell_type": "markdown",
      "metadata": {
        "id": "PXPnmTuir42p"
      },
      "source": [
        "***PYTHON & NETWORK SECURITY PROJECT***"
      ]
    },
    {
      "cell_type": "code",
      "metadata": {
        "colab": {
          "base_uri": "https://localhost:8080/"
        },
        "id": "sWFmQeLxlh8h",
        "outputId": "87b2d75f-aa40-49b4-d45b-370e155ee02a"
      },
      "source": [
        "import hashlib\n",
        " \n",
        "def main():\n",
        " \n",
        "  program= \"Hello World!! \"\n",
        "  programUtf8= program.encode(\"utf-8\") \n",
        " \n",
        "  hash=hashlib.md5(programUtf8) \n",
        "  hexa=hash.hexdigest()\n",
        "   \n",
        "  print(hexa) \n",
        " \n",
        "  return\n",
        " \n",
        "main()"
      ],
      "execution_count": null,
      "outputs": [
        {
          "output_type": "stream",
          "text": [
            "d52c58d163b96b92efff4220ce9c1c4c\n"
          ],
          "name": "stdout"
        }
      ]
    },
    {
      "cell_type": "markdown",
      "metadata": {
        "id": "KXtnsrCvnR4F"
      },
      "source": [
        " This is a program in python to generate md5 of string data."
      ]
    }
  ]
}